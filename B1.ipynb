{
  "nbformat": 4,
  "nbformat_minor": 0,
  "metadata": {
    "colab": {
      "provenance": []
    },
    "kernelspec": {
      "name": "python3",
      "display_name": "Python 3"
    },
    "language_info": {
      "name": "python"
    }
  },
  "cells": [
    {
      "cell_type": "code",
      "execution_count": null,
      "metadata": {
        "id": "Cigjz_fiNWvO"
      },
      "outputs": [],
      "source": [
        "# Compute Estimators of the main statistical measures like Mean, Variance, Standard Deviation, Covariance, Correlation and Standard error \n",
        "# with respect to any example. Display graphically the distribution of samples."
      ]
    },
    {
      "cell_type": "code",
      "source": [
        "import numpy as np"
      ],
      "metadata": {
        "id": "cUJTWydbUWkQ"
      },
      "execution_count": null,
      "outputs": []
    },
    {
      "cell_type": "code",
      "source": [
        "# mean \n",
        "\n",
        "sample=[12,45,190,14,8,10]\n",
        "summation=sum(sample);\n",
        "n=len(sample);\n",
        "\n",
        "mean=summation/n;\n",
        "\n",
        "print(\"Mean manually:\",mean)\n",
        "\n",
        "# mean by function to verify\n",
        "import statistics\n",
        "\n",
        "print(\"Mean by library\",statistics.mean(sample))\n",
        "print(\"Mean using numpy library\",np.mean(sample))"
      ],
      "metadata": {
        "colab": {
          "base_uri": "https://localhost:8080/"
        },
        "id": "CT16edkGOH9l",
        "outputId": "d9bd8d32-f40d-4f4b-f0d1-4bd1c8439905"
      },
      "execution_count": null,
      "outputs": [
        {
          "output_type": "stream",
          "name": "stdout",
          "text": [
            "Mean manually: 46.5\n",
            "Mean by library 46.5\n",
            "Mean using numpy library 46.5\n"
          ]
        }
      ]
    },
    {
      "cell_type": "code",
      "source": [
        "#VARIANCE\n",
        "var = sum((x-mean)**2 for x in sample)/n\n",
        "print(\"Variance manually:\",var)\n",
        "\n",
        "print(\"Variance by Library\",statistics.pvariance(sample))\n",
        "print(\"Variance by numpy library\",np.var(sample))"
      ],
      "metadata": {
        "colab": {
          "base_uri": "https://localhost:8080/"
        },
        "id": "faadREEgPKkp",
        "outputId": "ffd06307-90fb-46cc-b8b8-613d375e64ab"
      },
      "execution_count": null,
      "outputs": [
        {
          "output_type": "stream",
          "name": "stdout",
          "text": [
            "Variance manually: 4275.916666666667\n",
            "Variance by Library 4275.916666666667\n",
            "Variance by numpy library 4275.916666666667\n"
          ]
        }
      ]
    },
    {
      "cell_type": "code",
      "source": [
        "#Standard Deviations\n",
        "import math\n",
        "std=math.sqrt(sum((x-mean)**2 for x in sample)/n)\n",
        "print(\"Standard Deviation using formula\",std)\n",
        "\n",
        "print(\"Standard Deviation using library\",math.sqrt(var))\n",
        "print(\"Standard Deviation using numpy library\",np.std(sample))"
      ],
      "metadata": {
        "colab": {
          "base_uri": "https://localhost:8080/"
        },
        "id": "uxecZj_SPRuG",
        "outputId": "197c7197-6707-412b-9d05-46f866b9ef44"
      },
      "execution_count": null,
      "outputs": [
        {
          "output_type": "stream",
          "name": "stdout",
          "text": [
            "Standard Deviation using formula 65.39049370257626\n",
            "Standard Deviation using library 65.39049370257626\n",
            "Standard Deviation using numpy library 65.39049370257626\n"
          ]
        }
      ]
    },
    {
      "cell_type": "code",
      "source": [
        "#COVARIANCE\n",
        "\n",
        "def covariance(x,y):\n",
        "  mean_x=sum(x)/float(len(x))\n",
        "  mean_y=sum(y)/float(len(y))\n",
        "\n",
        "  #mean subtraction from each element\n",
        "  sub_x=[i-mean_x for i in x]\n",
        "  sub_y=[i-mean_y for i in y]\n",
        "  numerator=sum([sub_x[i]*sub_y[i] for i in range(len(sub_x))])\n",
        "  denominator=len(x)-1\n",
        "\n",
        "  cov=numerator/denominator\n",
        "  return cov\n",
        "\n",
        "#with open('iris_setosa.csv','r') as f:\n",
        " # g=f.readlines()\n",
        "  #sep_length = [float(x.split(',')[0]) for x in g[1:]]\n",
        "  #sep_width  = [float(x.split(',')[1]) for x in g[1:]]\n",
        "  #cov_func=covariance(sep_length,sep_width)\n",
        "  #print(\"Covariance from the custom function:\",cov_func)\n",
        "\n",
        "a=[3,6,7,8,1]\n",
        "b=[5,6,7,8,9]\n",
        "covnew=covariance(a,b)\n",
        "print(covnew)\n"
      ],
      "metadata": {
        "colab": {
          "base_uri": "https://localhost:8080/"
        },
        "id": "El9RuERCTZLR",
        "outputId": "3d05211a-8dec-4a21-f7dc-76f744fbd6cb"
      },
      "execution_count": null,
      "outputs": [
        {
          "output_type": "stream",
          "name": "stdout",
          "text": [
            "-0.5\n"
          ]
        }
      ]
    },
    {
      "cell_type": "code",
      "source": [
        "#CORELATION\n",
        "def correlation(x,y):\n",
        "  mean_x=sum(x)/len(x)\n",
        "  mean_y=sum(y)/len(y)\n",
        "\n",
        "  sub_x=[i-mean_x for i in x]\n",
        "  sub_y=[i-mean_y for i in y]\n",
        "\n",
        "  numerator=sum([sub_x[i]*sub_y[i] for i in range(len(sub_x))])\n",
        "\n",
        "  std_dvx=sum([sub_x[i]**2.0 for i in range(len(sub_x))])\n",
        "  std_dvy=sum([sub_y[i]**2.0 for i in range(len(sub_y))])\n",
        "\n",
        "  denominator=(std_dvx*std_dvy)**0.5;\n",
        "\n",
        "  corr=numerator/denominator\n",
        "  return corr\n",
        "\n",
        "\n",
        "\n",
        "with open('iris_setosa.csv','r') as f:\n",
        "  g=f.readlines()\n",
        "  sep_length = [float(x.split(',')[0]) for x in g[1:]]\n",
        "  sep_width  = [float(x.split(',')[1]) for x in g[1:]]\n",
        "  coR_func=correlation(sep_length,sep_width)\n",
        "  print(\"Corelation from the custom function:\",coR_func)\n"
      ],
      "metadata": {
        "colab": {
          "base_uri": "https://localhost:8080/"
        },
        "id": "IX2L02kbVtpf",
        "outputId": "bff77f9c-670d-404e-dbde-e4c526efe74c"
      },
      "execution_count": null,
      "outputs": [
        {
          "output_type": "stream",
          "name": "stdout",
          "text": [
            "Corelation from the custom function: 0.7425466856651597\n"
          ]
        }
      ]
    },
    {
      "cell_type": "code",
      "source": [
        "# STANDARD ERROR\n",
        "\n",
        "sample2=[23,56,78,89,90]\n",
        "s2mean=sum(sample2)/len(sample2)\n",
        "var=sum((x-s2mean)**2.0 for x in sample2)/len(sample2)\n",
        "std_dev=math.sqrt(var)\n",
        "\n",
        "std_error=std_dev/math.sqrt(len(sample2))\n",
        "\n",
        "#print(var,std_dev)\n",
        "print(\"Standard Error of the given array:\",std_error)"
      ],
      "metadata": {
        "colab": {
          "base_uri": "https://localhost:8080/"
        },
        "id": "BT6u_axddro-",
        "outputId": "97332c7a-bc54-4f9b-b4c2-dbf93cc59835"
      },
      "execution_count": null,
      "outputs": [
        {
          "output_type": "stream",
          "name": "stdout",
          "text": [
            "Standard Error of the given array: 11.297433336824787\n"
          ]
        }
      ]
    },
    {
      "cell_type": "code",
      "source": [],
      "metadata": {
        "id": "T0pYDUqsf2gO"
      },
      "execution_count": null,
      "outputs": []
    }
  ]
}